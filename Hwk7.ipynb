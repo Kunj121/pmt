{
 "cells": [
  {
   "metadata": {},
   "cell_type": "markdown",
   "source": [
    "1 GMO\n",
    "This section is not graded, and you do not need to submit your answers. But you are expected to consider these issues and be ready to discuss them.\n",
    "1. GMO’s approach.\n",
    "(a) Why does GMO believe they can more easily predict long-run than short-run asset class performance?\n",
    "(b) What predicting variables does the case mention are used by GMO? Does this fit with the goal of long-run forecasts?\n",
    "(c) How has this approach led to contrarian positions?\n",
    "(d) How does this approach raise business risk and managerial career risk?\n",
    "2. The market environment.\n",
    "(a) We often estimate the market risk premium by looking at a large sample of historic data. What reasons does the case give to be skeptical that the market risk premium will be as high in the future as it has been over the past 50 years?\n",
    "(b) In 2007, GMO forecasts real excess equity returns will be negative. What are the biggest drivers of their pessimistic conditional forecast relative to the unconditional forecast. (See Exhibit 9.)\n",
    "(c) In the 2011 forecast, what components has GMO revised most relative to 2007? Now how does their conditional forecast compare to the unconditional? (See Exhibit 10.)\n",
    "3. Consider the asset class forecasts in Exhibit 1.\n",
    "(a) Which asset class did GMO estimate to have a negative 10-year return over 2002-2011? (b) Which asset classes substantially outperformed GMO’s estimate over that time period?\n",
    "(c) Which asset classes substantially underperformed GMO’s estimate over that time period? 4. Fund Performance.\n",
    "(a) In which asset class was GMWAX most heavily allocated throughout the majority of 1997- 2011?\n",
    "(b) Comment on the performance of GMWAX versus its benchmark. (No calculation needed; simply comment on the comparison in the exhibits.)"
   ],
   "id": "a53264aba920256b"
  },
  {
   "metadata": {},
   "cell_type": "markdown",
   "source": [
    "<span style=\"color:blue\">\n",
    "1. \n",
    "- a). GMO believes they can more easily predict long-run asset class performance than short-run performance because they think that the expected return on stocks over the intermediate term can differ from the long-run return that investors require. This aligns with the famous saying: ‘In the short run, the market is a voting machine, but in the long run, it is a weighing machine. Basically, this means that short-term stock prices can inflate or deflate based on popularity, but long term, they will hold their true value.\n",
    "- b). Predicting variables: Change in P/E ratio, Change in profit margin, Change in Growth Sales/Share. The goal of these indicators is to show the \"true\" weight of a stock rather than the current price being adjusted by popularity. P/E and profit margins would tend to revert to long-term steady-state levels.\n",
    "- c). In order to properly allocate, if they noticed an asset class they were pessimistic about, they would slightly trim it. So this contrarian approach helped reduce portfolio risk over time.\n",
    "- d). This approach raised business risk by generating below-average returns for certain time periods.\n",
    "</span>"
   ],
   "id": "2cbca12c923f5984"
  },
  {
   "metadata": {},
   "cell_type": "markdown",
   "source": [
    "2. The market environment.\n",
    "(a) We often estimate the market risk premium by looking at a large sample of historic data. What reasons does the case give to be skeptical that the market risk premium will be as high in the future as it has been over the past 50 years?\n",
    "(b) In 2007, GMO forecasts real excess equity returns will be negative. What are the biggest drivers of their pessimistic conditional forecast relative to the unconditional forecast. (See Exhibit 9.)\n",
    "(c) In the 2011 forecast, what components has GMO revised most relative to 2007? Now how does their conditional forecast compare to the unconditional? (See Exhibit 10.)"
   ],
   "id": "8d166705dbb8dd3e"
  },
  {
   "metadata": {},
   "cell_type": "markdown",
   "source": [
    "<span style=\"color:blue\">\n",
    "2. -a). After 2008, the S&P500 was still trading above its PE average of 16 at 19.9, now GMO was pessimistic about how muc h more it could grow in the future. b). The biggest drivers of pessimistic conditional forecasts was a high P/E ratio and high profit margins compared to level in 7 years. c). They revised the PE Ratio, decreased the steady state level assumptions. <span>"
   ],
   "id": "91ab345b4dc823e9"
  },
  {
   "metadata": {},
   "cell_type": "markdown",
   "source": [
    "3. Consider the asset class forecasts in Exhibit 1.\n",
    "(a) Which asset class did GMO estimate to have a negative 10-year return over 2002-2011? (b) Which asset classes substantially outperformed GMO’s estimate over that time period?\n",
    "(c) Which asset classes substantially underperformed GMO’s estimate over that time period?m"
   ],
   "id": "b93831b7c45f9b1f"
  },
  {
   "metadata": {},
   "cell_type": "markdown",
   "source": [
    "<span style=\"color:blue\">\n",
    "3. a). US Equities. b). Foriegn Government Bonds. C). US REITS/US Tbills\n",
    "<span>\n"
   ],
   "id": "986637194a47e5de"
  },
  {
   "metadata": {},
   "cell_type": "markdown",
   "source": [
    "4. Fund Performance.\n",
    "(a) In which asset class was GMWAX most heavily allocated throughout the majority of 1997- 2011?\n",
    "(b) Comment on the performance of GMWAX versus its benchmark. (No calculation needed; simply comment on the comparison in the exhibits.)"
   ],
   "id": "873eefe0f9e7706a"
  },
  {
   "metadata": {},
   "cell_type": "markdown",
   "source": [
    "<span style=\"color:blue\">\n",
    "4. a). US Fixed Income. b). US Fixed Income, Per Exhibit 1, The SP market had lower returns than FI\n",
    "<span>"
   ],
   "id": "7a885bfd6ec142f6"
  },
  {
   "metadata": {
    "ExecuteTime": {
     "end_time": "2024-11-15T23:58:48.352230Z",
     "start_time": "2024-11-15T23:58:48.348828Z"
    }
   },
   "cell_type": "code",
   "source": [
    "from random import sample\n",
    "\n",
    "import pandas as pd\n",
    "from openpyxl.styles.builtins import total\n",
    "from sympy.physics.control.control_plots import matplotlib\n",
    "\n",
    "from portfolio_management_helper.portfolio_management_helper.helper_functions import *\n",
    "import portfolio_management_helper.portfolio_management_helper.helper_functions as pmh\n",
    "from portfolio_management_helper.capm_helper.regression import *\n",
    "import portfolio_management_helper.capm_helper.regression as cmh\n",
    "import matplotlib.pyplot as plt"
   ],
   "id": "c3f18266cdb26031",
   "outputs": [],
   "execution_count": 25
  },
  {
   "metadata": {
    "ExecuteTime": {
     "end_time": "2024-11-16T06:19:11.606390Z",
     "start_time": "2024-11-16T06:19:11.600765Z"
    }
   },
   "cell_type": "code",
   "source": [
    "def OOS_r2(df, factors, start):\n",
    "    y = df['SPY']\n",
    "    X = sm.add_constant(factors)\n",
    "\n",
    "    forecast_err, null_err = [], []\n",
    "\n",
    "    for i,j in enumerate(df.index):\n",
    "        if i >= start:\n",
    "            currX = X.iloc[:i]\n",
    "            currY = y.iloc[:i]\n",
    "            reg = sm.OLS(currY, currX, missing = 'drop').fit()\n",
    "            null_forecast = currY.mean()\n",
    "            reg_predict = reg.predict(X.iloc[[i]])\n",
    "            actual = y.iloc[[i]]\n",
    "            forecast_err.append(reg_predict - actual)\n",
    "            null_err.append(null_forecast - actual)\n",
    "            \n",
    "    RSS = (np.array(forecast_err)**2).sum()\n",
    "    TSS = (np.array(null_err)**2).sum()\n",
    "    \n",
    "    return ((1 - RSS/TSS),reg)"
   ],
   "id": "f168e6fc31493d8b",
   "outputs": [],
   "execution_count": 81
  },
  {
   "metadata": {
    "ExecuteTime": {
     "end_time": "2024-11-15T23:58:48.381437Z",
     "start_time": "2024-11-15T23:58:48.377344Z"
    }
   },
   "cell_type": "code",
   "source": [
    "def OOS_r2(df, factors, start):\n",
    "    y = df['SPY']\n",
    "    X = sm.add_constant(factors)\n",
    "\n",
    "    forecast_err, null_err = [], []\n",
    "\n",
    "    for i,j in enumerate(df.index):\n",
    "        if i >= start:\n",
    "            currX = X.iloc[:i]\n",
    "            currY = y.iloc[:i]\n",
    "            reg = sm.OLS(currY, currX, missing = 'drop').fit()\n",
    "            null_forecast = currY.mean()\n",
    "            reg_predict = reg.predict(X.iloc[[i]])\n",
    "            actual = y.iloc[[i]]\n",
    "            forecast_err.append(reg_predict - actual)\n",
    "            null_err.append(null_forecast - actual)\n",
    "            \n",
    "    RSS = (np.array(forecast_err)**2).sum()\n",
    "    TSS = (np.array(null_err)**2).sum()\n",
    "    \n",
    "    return ((1 - RSS/TSS),reg)\n",
    "\n",
    "\n",
    "def OOS_strat(df, factors, start, weight):\n",
    "    returns = []\n",
    "    y = df['SPY']\n",
    "    X = sm.add_constant(factors)\n",
    "\n",
    "    for i,j in enumerate(df.index):\n",
    "        if i >= start:\n",
    "            currX = X.iloc[:i]\n",
    "            currY = y.iloc[:i]\n",
    "            reg = sm.OLS(currY, currX, missing = 'drop').fit()\n",
    "            pred = reg.predict(X.iloc[[i]])\n",
    "            w = pred * weight\n",
    "            returns.append((df.iloc[i]['SPY'] * w)[0])\n",
    "\n",
    "    df_strat = pd.DataFrame(data = returns, index = df.iloc[-(len(returns)):].index, columns = ['Strat Returns'])\n",
    "    return df_strat"
   ],
   "id": "94605b5fd541b418",
   "outputs": [],
   "execution_count": 26
  },
  {
   "metadata": {
    "ExecuteTime": {
     "end_time": "2024-11-15T23:58:48.467079Z",
     "start_time": "2024-11-15T23:58:48.453545Z"
    }
   },
   "cell_type": "code",
   "source": [
    "import pandas as pd\n",
    "import matplotlib.pyplot as plt\n",
    "\n",
    "def plot_cumulative_returns(*dataframes, return_stats=False):\n",
    "    \"\"\"\n",
    "    Plots cumulative returns for multiple dataframes.\n",
    "    Optionally returns statistics for each DataFrame.\n",
    "\n",
    "    Parameters:\n",
    "    *dataframes: Variable number of pandas DataFrames where each DataFrame can have multiple columns of returns.\n",
    "    return_stats (bool): If True, returns statistical metrics (Mean, Volatility, Sharpe, Minimum, Maximum, VaR(5%)).\n",
    "\n",
    "    Returns:\n",
    "    A matplotlib plot with cumulative returns and a legend.\n",
    "    Optionally returns a dictionary of statistics if return_stats is True.\n",
    "    \"\"\"\n",
    "    stats = {}\n",
    "\n",
    "    plt.figure(figsize=(12, 6))\n",
    "    \n",
    "    for i, df in enumerate(dataframes):\n",
    "        if not isinstance(df, pd.DataFrame):\n",
    "            raise ValueError(f\"Input {i+1} is not a pandas DataFrame\")\n",
    "        \n",
    "        for column in df.columns:\n",
    "            if not pd.api.types.is_numeric_dtype(df[column]):\n",
    "                raise ValueError(f\"Column '{column}' in DataFrame {i+1} is not numeric\")\n",
    "            \n",
    "            # Calculate cumulative returns\n",
    "            cumulative_returns = (1 + df[column]).cumprod() - 1\n",
    "            \n",
    "            # Plot cumulative returns\n",
    "            plt.plot(cumulative_returns, label=f\"DF{i+1}: {column}\")\n",
    "            \n",
    "            # Calculate statistics if return_stats is True\n",
    "            if return_stats:\n",
    "                mean = df[column].mean()\n",
    "                volatility = df[column].std()\n",
    "                sharpe_ratio = mean / volatility if volatility != 0 else 0\n",
    "                minimum = df[column].min()\n",
    "                maximum = df[column].max()\n",
    "                var_5 = df[column].quantile(0.05)\n",
    "                \n",
    "                stats[f\"DF{i+1}: {column}\"] = {\n",
    "                    'Mean': mean,\n",
    "                    'Volatility': volatility,\n",
    "                    'Sharpe Ratio': sharpe_ratio,\n",
    "                    'Minimum': minimum,\n",
    "                    'Maximum': maximum,\n",
    "                    'VaR (5%)': var_5\n",
    "                }\n",
    "\n",
    "    plt.title(\"Cumulative Returns\")\n",
    "    plt.xlabel(\"Index\")\n",
    "    plt.ylabel(\"Cumulative Return\")\n",
    "    plt.legend()\n",
    "    plt.grid(True)\n",
    "    plt.tight_layout()\n",
    "    plt.show()\n",
    "    \n",
    "    if return_stats:\n",
    "        return stats\n"
   ],
   "id": "75ded8ea8619d9a7",
   "outputs": [],
   "execution_count": 27
  },
  {
   "metadata": {
    "ExecuteTime": {
     "end_time": "2024-11-15T23:58:48.496206Z",
     "start_time": "2024-11-15T23:58:48.488813Z"
    }
   },
   "cell_type": "code",
   "source": [
    "def time_series_regression(portfolio, factors, multiple_factors = False, resid = False):\n",
    "    \n",
    "    ff_report = pd.DataFrame(index=portfolio.columns)\n",
    "    bm_residuals = pd.DataFrame(columns=portfolio.columns)\n",
    "\n",
    "    rhs = sm.add_constant(factors)\n",
    "\n",
    "    for portf in portfolio.columns:\n",
    "        lhs = portfolio[portf]\n",
    "        res = sm.OLS(lhs, rhs, missing='drop').fit()\n",
    "        ff_report.loc[portf, 'alpha_hat'] = res.params['const'] * 12\n",
    "        if multiple_factors:\n",
    "            ff_report.loc[portf, factors.columns[0] + ' beta'] = res.params[1]\n",
    "            ff_report.loc[portf, factors.columns[1]+ ' beta'] = res.params[2] \n",
    "            ff_report.loc[portf, factors.columns[2]+ ' beta'] = res.params[3]\n",
    "        else:\n",
    "            ff_report.loc[portf, factors.name + ' beta'] = res.params[1]\n",
    "\n",
    "            \n",
    "        ff_report.loc[portf, 'info_ratio'] = np.sqrt(12) * res.params['const'] / res.resid.std()\n",
    "        ff_report.loc[portf, 'treynor_ratio'] = 12 * portfolio[portf].mean() / res.params[1]\n",
    "        ff_report.loc[portf, 'R-squared'] = res.rsquared\n",
    "        ff_report.loc[portf, 'Tracking Error'] = (res.resid.std()*np.sqrt(12))\n",
    "\n",
    "        if resid:\n",
    "            bm_residuals[portf] = res.resid\n",
    "            \n",
    "            \n",
    "        \n",
    "    if resid:\n",
    "        return bm_residuals\n",
    "        \n",
    "    return ff_report"
   ],
   "id": "cc5497fb769eaf23",
   "outputs": [],
   "execution_count": 28
  },
  {
   "metadata": {
    "ExecuteTime": {
     "end_time": "2024-11-15T23:58:48.526180Z",
     "start_time": "2024-11-15T23:58:48.512327Z"
    }
   },
   "cell_type": "code",
   "source": [
    "def performance_summary(return_data):\n",
    "    \"\"\" \n",
    "        Returns the Performance Stats for given set of returns\n",
    "        Inputs: \n",
    "            return_data - DataFrame with Date index and Monthly Returns for different assets/strategies.\n",
    "        Output:\n",
    "            summary_stats - DataFrame with annualized mean return, vol, sharpe ratio. Skewness, Excess Kurtosis, Var (0.5) and\n",
    "                            CVaR (0.5) and drawdown based on monthly returns. \n",
    "    \"\"\"\n",
    "    summary_stats = return_data.mean().to_frame('Mean').apply(lambda x: x*12)\n",
    "    summary_stats['Volatility'] = return_data.std().apply(lambda x: x*np.sqrt(12))\n",
    "    summary_stats['Sharpe Ratio'] = summary_stats['Mean']/summary_stats['Volatility']\n",
    "    \n",
    "    summary_stats['Skewness'] = return_data.skew()\n",
    "    summary_stats['Excess Kurtosis'] = return_data.kurtosis()\n",
    "    summary_stats['VaR (0.05)'] = return_data.quantile(.05, axis = 0)\n",
    "    summary_stats['CVaR (0.05)'] = return_data[return_data <= return_data.quantile(.05, axis = 0)].mean()\n",
    "    summary_stats['Min'] = return_data.min()\n",
    "    summary_stats['Max'] = return_data.max()\n",
    "    \n",
    "    wealth_index = 1000*(1+return_data).cumprod()\n",
    "    previous_peaks = wealth_index.cummax()\n",
    "    drawdowns = (wealth_index - previous_peaks)/previous_peaks\n",
    "\n",
    "    summary_stats['Max Drawdown'] = drawdowns.min()\n",
    "    summary_stats['Peak'] = [previous_peaks[col][:drawdowns[col].idxmin()].idxmax() for col in previous_peaks.columns]\n",
    "    summary_stats['Bottom'] = drawdowns.idxmin()\n",
    "    \n",
    "    recovery_date = []\n",
    "    for col in wealth_index.columns:\n",
    "        prev_max = previous_peaks[col][:drawdowns[col].idxmin()].max()\n",
    "        recovery_wealth = pd.DataFrame([wealth_index[col][drawdowns[col].idxmin():]]).T\n",
    "        recovery_date.append(recovery_wealth[recovery_wealth[col] >= prev_max].index.min())\n",
    "    summary_stats['Recovery'] = recovery_date\n",
    "    \n",
    "    return summary_stats"
   ],
   "id": "44ae0215cce9be52",
   "outputs": [],
   "execution_count": 29
  },
  {
   "metadata": {},
   "cell_type": "markdown",
   "source": [
    "## Analyzing GMO\n",
    "\n",
    "This section utilizes data in the file, `gmo_data.xlsx`.\n",
    "\n",
    "Examine GMO’s performance. Use the risk-free rate to convert the total returns to excess returns.\n",
    "\n",
    "1. Calculate the mean, volatility, and Sharpe ratio for GMWAX. Do this for three samples:\n",
    "   - from inception through 2011\n",
    "   - 2012-present\n",
    "   - inception - present\n",
    "\n",
    "Has the mean, vol, and Sharpe changed much since the case?"
   ],
   "id": "432acd3e7bba8fb1"
  },
  {
   "metadata": {
    "ExecuteTime": {
     "end_time": "2024-11-15T23:58:48.549551Z",
     "start_time": "2024-11-15T23:58:48.547802Z"
    }
   },
   "cell_type": "code",
   "source": "",
   "id": "ebf42d232d767105",
   "outputs": [],
   "execution_count": null
  },
  {
   "metadata": {},
   "cell_type": "markdown",
   "source": [
    "<span style=\"color:blue\">\n",
    "The mean increased and the vol decreased\n",
    "<span>"
   ],
   "id": "edac992353b7b604"
  },
  {
   "metadata": {
    "ExecuteTime": {
     "end_time": "2024-11-15T23:58:48.602576Z",
     "start_time": "2024-11-15T23:58:48.564986Z"
    }
   },
   "cell_type": "code",
   "source": [
    "total_returns = pmh.read_excel_default(\"/Users/kunjshah/Downloads/GIT Repo/finm-portfolio-2024/data/gmo_data.xlsx\", sheet_name = 'total returns')\n",
    "risk_free = pmh.read_excel_default(\"/Users/kunjshah/Downloads/GIT Repo/finm-portfolio-2024/data/gmo_data.xlsx\", sheet_name = 'risk-free rate')\n",
    "signals = pmh.read_excel_default(\"/Users/kunjshah/Downloads/GIT Repo/finm-portfolio-2024/data/gmo_data.xlsx\", sheet_name='signals')"
   ],
   "id": "602b8c4031c742d6",
   "outputs": [],
   "execution_count": 30
  },
  {
   "metadata": {
    "ExecuteTime": {
     "end_time": "2024-11-15T23:58:48.617525Z",
     "start_time": "2024-11-15T23:58:48.615597Z"
    }
   },
   "cell_type": "code",
   "source": "risk_free = risk_free /12",
   "id": "6e4fb38bcc9a6a6a",
   "outputs": [],
   "execution_count": 31
  },
  {
   "metadata": {
    "ExecuteTime": {
     "end_time": "2024-11-15T23:58:48.633926Z",
     "start_time": "2024-11-15T23:58:48.631537Z"
    }
   },
   "cell_type": "code",
   "source": "excess_returns = total_returns.apply(lambda x: x - risk_free['TBill 3M'], axis = 0)",
   "id": "ffadfd2a0fbabab6",
   "outputs": [],
   "execution_count": 32
  },
  {
   "metadata": {
    "ExecuteTime": {
     "end_time": "2024-11-15T23:58:48.657271Z",
     "start_time": "2024-11-15T23:58:48.647486Z"
    }
   },
   "cell_type": "code",
   "source": [
    "subsample_dates = [('1996', '2011'), ('2012', '2024'), ('1996', '2024')]\n",
    "gmwax = excess_returns[['GMWAX']]\n",
    "x = cmh.split_and_calculate(gmwax, subsample_dates)\n",
    "display(x)\n",
    "\n",
    "\n",
    "\n"
   ],
   "id": "d8b20aec8be1552",
   "outputs": [
    {
     "data": {
      "text/plain": [
       "                       Annualized Mean  Annualized Volatility  Sharpe Ratio  \\\n",
       "Subsample Range                                                               \n",
       "1996 to 2011    GMWAX           0.0464                 0.1105        0.4201   \n",
       "2012 to 2024    GMWAX           0.0434                 0.0949        0.4573   \n",
       "1996 to 2024    GMWAX           0.0450                 0.1035        0.4352   \n",
       "\n",
       "                       VaR(0.05)  \n",
       "Subsample Range                   \n",
       "1996 to 2011    GMWAX    -0.0440  \n",
       "2012 to 2024    GMWAX    -0.0409  \n",
       "1996 to 2024    GMWAX    -0.0414  "
      ],
      "text/html": [
       "<div>\n",
       "<style scoped>\n",
       "    .dataframe tbody tr th:only-of-type {\n",
       "        vertical-align: middle;\n",
       "    }\n",
       "\n",
       "    .dataframe tbody tr th {\n",
       "        vertical-align: top;\n",
       "    }\n",
       "\n",
       "    .dataframe thead th {\n",
       "        text-align: right;\n",
       "    }\n",
       "</style>\n",
       "<table border=\"1\" class=\"dataframe\">\n",
       "  <thead>\n",
       "    <tr style=\"text-align: right;\">\n",
       "      <th></th>\n",
       "      <th></th>\n",
       "      <th>Annualized Mean</th>\n",
       "      <th>Annualized Volatility</th>\n",
       "      <th>Sharpe Ratio</th>\n",
       "      <th>VaR(0.05)</th>\n",
       "    </tr>\n",
       "    <tr>\n",
       "      <th>Subsample Range</th>\n",
       "      <th></th>\n",
       "      <th></th>\n",
       "      <th></th>\n",
       "      <th></th>\n",
       "      <th></th>\n",
       "    </tr>\n",
       "  </thead>\n",
       "  <tbody>\n",
       "    <tr>\n",
       "      <th>1996 to 2011</th>\n",
       "      <th>GMWAX</th>\n",
       "      <td>0.0464</td>\n",
       "      <td>0.1105</td>\n",
       "      <td>0.4201</td>\n",
       "      <td>-0.0440</td>\n",
       "    </tr>\n",
       "    <tr>\n",
       "      <th>2012 to 2024</th>\n",
       "      <th>GMWAX</th>\n",
       "      <td>0.0434</td>\n",
       "      <td>0.0949</td>\n",
       "      <td>0.4573</td>\n",
       "      <td>-0.0409</td>\n",
       "    </tr>\n",
       "    <tr>\n",
       "      <th>1996 to 2024</th>\n",
       "      <th>GMWAX</th>\n",
       "      <td>0.0450</td>\n",
       "      <td>0.1035</td>\n",
       "      <td>0.4352</td>\n",
       "      <td>-0.0414</td>\n",
       "    </tr>\n",
       "  </tbody>\n",
       "</table>\n",
       "</div>"
      ]
     },
     "metadata": {},
     "output_type": "display_data"
    }
   ],
   "execution_count": 33
  },
  {
   "metadata": {
    "ExecuteTime": {
     "end_time": "2024-11-15T23:58:48.677771Z",
     "start_time": "2024-11-15T23:58:48.676097Z"
    }
   },
   "cell_type": "code",
   "source": [
    "# # Plotting each metric as a separate subplot\n",
    "# metrics = ['Annualized Mean', 'Annualized Volatility', 'Sharpe Ratio', 'VaR(0.05)']\n",
    "# fig, axes = plt.subplots(2, 2, figsize=(14, 10))\n",
    "# fig.suptitle('Metrics by Subsample Range and Asset')\n",
    "# custom_colors = ['#4c72b0', '#55a868', '#c44e52', '#8172b2', '#ccb974', '#64b5cd']\n",
    "# \n",
    "# for ax, metric in zip(axes.flatten(), metrics):\n",
    "#     df_metric = summary_stats[metric].unstack(level=0)  # Reshape for easier plotting\n",
    "#     df_metric.plot(kind='bar', ax=ax, legend=True, color = custom_colors)\n",
    "#     ax.set_title(metric)\n",
    "#     ax.set_ylabel(metric)\n",
    "#     ax.set_xlabel('Asset')\n",
    "# \n",
    "# plt.tight_layout(rect=[0, 0.03, 1, 0.95])\n",
    "# plt.show()"
   ],
   "id": "de90366cbee550e8",
   "outputs": [],
   "execution_count": 34
  },
  {
   "metadata": {},
   "cell_type": "markdown",
   "source": [
    "## GMO believes a risk premium is compensation for a security’s tendency to lose money at “bad times”. \n",
    "\n",
    "For all three samples, analyze extreme scenarios by looking at:\n",
    "- Minimum return\n",
    "- 5th percentile (VaR-5th)\n",
    "- Maximum drawdown\n",
    "\n",
    "1. Does GMWAX have high or low tail-risk as seen by these stats?\n",
    "2. Does that vary much across the two subsamples?"
   ],
   "id": "bf88b34b8b5a7351"
  },
  {
   "metadata": {},
   "cell_type": "markdown",
   "source": [
    "<span style=\"color:blue\">\n",
    "1. Across all time periods, all samples have high tail risk at -93% average. \n",
    "- GMWAX has a a historical Var about about 8% as well, meaning that there is a 5% likelihood it can lose more than 8% in a given day \n",
    "2. For GMWAX this varies greatly, across the two subamples (1996:2011), (2012:), we see a 40% increase in min, 13% increase in  VaR, and 17% increase in Max Drawdown\n",
    "<span>"
   ],
   "id": "db5993bc50d618a4"
  },
  {
   "metadata": {
    "ExecuteTime": {
     "end_time": "2024-11-15T23:58:48.695938Z",
     "start_time": "2024-11-15T23:58:48.693223Z"
    }
   },
   "cell_type": "code",
   "source": [
    "sample_beg = excess_returns.loc[:'2011']\n",
    "sample_mid = excess_returns.loc['2012':]\n",
    "sample_full = excess_returns.copy()"
   ],
   "id": "6ed987f12a2630e3",
   "outputs": [],
   "execution_count": 35
  },
  {
   "metadata": {
    "ExecuteTime": {
     "end_time": "2024-11-15T23:58:48.780102Z",
     "start_time": "2024-11-15T23:58:48.747677Z"
    }
   },
   "cell_type": "code",
   "source": [
    "analysis = pd.concat(\n",
    "    [pmh.calc_summary_statistics(sample_beg, keep_columns=['Min', 'VaR', 'Max Drawdown']),\n",
    "    pmh.calc_summary_statistics(sample_mid, keep_columns=['Min', 'VaR', 'Max Drawdown']),\n",
    "    pmh.calc_summary_statistics(sample_full, keep_columns=['Min', 'VaR', 'Max Drawdown'])\n",
    "])\n",
    "\n",
    "analysis = analysis[['Min','Historical VaR (5.00%)', 'Max Drawdown' ]]\n",
    "\n",
    "analysis.loc['GMWAX' ]"
   ],
   "id": "fbc0eade665702a8",
   "outputs": [
    {
     "name": "stdout",
     "output_type": "stream",
     "text": [
      "Assuming monthly returns with annualization term of 12\n",
      "Assuming excess returns were provided to calculate Sharpe. If returns were provided (steady of excess returns), the column \"Sharpe\" is actually \"Mean/Volatility\"\n",
      "Assuming monthly returns with annualization term of 12\n",
      "Assuming excess returns were provided to calculate Sharpe. If returns were provided (steady of excess returns), the column \"Sharpe\" is actually \"Mean/Volatility\"\n",
      "Assuming monthly returns with annualization term of 12\n",
      "Assuming excess returns were provided to calculate Sharpe. If returns were provided (steady of excess returns), the column \"Sharpe\" is actually \"Mean/Volatility\"\n"
     ]
    },
    {
     "data": {
      "text/plain": [
       "          Min  Historical VaR (5.00%)  Max Drawdown\n",
       "GMWAX -0.1492                 -0.0440       -0.3065\n",
       "GMWAX -0.1150                 -0.0409       -0.2256\n",
       "GMWAX -0.1492                 -0.0414       -0.3065"
      ],
      "text/html": [
       "<div>\n",
       "<style scoped>\n",
       "    .dataframe tbody tr th:only-of-type {\n",
       "        vertical-align: middle;\n",
       "    }\n",
       "\n",
       "    .dataframe tbody tr th {\n",
       "        vertical-align: top;\n",
       "    }\n",
       "\n",
       "    .dataframe thead th {\n",
       "        text-align: right;\n",
       "    }\n",
       "</style>\n",
       "<table border=\"1\" class=\"dataframe\">\n",
       "  <thead>\n",
       "    <tr style=\"text-align: right;\">\n",
       "      <th></th>\n",
       "      <th>Min</th>\n",
       "      <th>Historical VaR (5.00%)</th>\n",
       "      <th>Max Drawdown</th>\n",
       "    </tr>\n",
       "  </thead>\n",
       "  <tbody>\n",
       "    <tr>\n",
       "      <th>GMWAX</th>\n",
       "      <td>-0.1492</td>\n",
       "      <td>-0.0440</td>\n",
       "      <td>-0.3065</td>\n",
       "    </tr>\n",
       "    <tr>\n",
       "      <th>GMWAX</th>\n",
       "      <td>-0.1150</td>\n",
       "      <td>-0.0409</td>\n",
       "      <td>-0.2256</td>\n",
       "    </tr>\n",
       "    <tr>\n",
       "      <th>GMWAX</th>\n",
       "      <td>-0.1492</td>\n",
       "      <td>-0.0414</td>\n",
       "      <td>-0.3065</td>\n",
       "    </tr>\n",
       "  </tbody>\n",
       "</table>\n",
       "</div>"
      ]
     },
     "execution_count": 36,
     "metadata": {},
     "output_type": "execute_result"
    }
   ],
   "execution_count": 36
  },
  {
   "metadata": {
    "ExecuteTime": {
     "end_time": "2024-11-15T23:58:48.839219Z",
     "start_time": "2024-11-15T23:58:48.834594Z"
    }
   },
   "cell_type": "code",
   "source": [
    "percentage_change = (analysis.loc['GMWAX'].iloc[0]-analysis.loc['GMWAX'].iloc[1])/analysis.loc['GMWAX'].iloc[0]\n",
    "percentage_change.name = '% Change'\n",
    "percentage_change"
   ],
   "id": "1731abaede583d6b",
   "outputs": [
    {
     "data": {
      "text/plain": [
       "Min                      0.2288\n",
       "Historical VaR (5.00%)   0.0716\n",
       "Max Drawdown             0.2640\n",
       "Name: % Change, dtype: float64"
      ]
     },
     "execution_count": 37,
     "metadata": {},
     "output_type": "execute_result"
    }
   ],
   "execution_count": 37
  },
  {
   "metadata": {},
   "cell_type": "markdown",
   "source": [
    "## Regression Analysis of GMWAX on SPY\n",
    "\n",
    "For all three samples, regress the excess returns of GMWAX on the excess returns of SPY.\n",
    "\n",
    "### Analysis\n",
    "1. **Report the estimated alpha, beta, and R-squared.**\n",
    "   - Estimated Alpha\n",
    "   - Estimated Beta\n",
    "   - R-squared\n",
    "\n",
    "2. **Is GMWAX a low-beta strategy? Has that changed since the case?**\n",
    "   - A low-beta strategy generally has a beta less than 1, meaning it is less sensitive to market movements. Assess whether GMWAX consistently exhibits low-beta characteristics and if this has changed across the samples.\n",
    "\n",
    "3. **Does GMWAX provide alpha? Has that changed across the subsamples?**\n",
    "   - Positive alpha would indicate that GMWAX delivers excess returns independent of SPY’s performance. Evaluate if alpha remains consistent across the subsamples or if it has changed over time.\n",
    "\n"
   ],
   "id": "b357080fb9b7d82"
  },
  {
   "metadata": {},
   "cell_type": "markdown",
   "source": [
    "1. **Estimated Alpha**: The intercept in the regression, representing the excess return of GMWAX that is independent of SPY.\n",
    "2. **Estimated Beta**: The slope in the regression, indicating GMWAX’s sensitivity to SPY's returns.\n",
    "3. **R-squared**: Measures the proportion of variance in GMWAX's excess returns explained by SPY's excess returns."
   ],
   "id": "cc4f9700a3badac6"
  },
  {
   "metadata": {},
   "cell_type": "markdown",
   "source": [
    "<span style=\"color:blue\">\n",
    "- GMWAX appears to be a moderate beta strategy, relatively staying constant at around .6. \n",
    "- GMWAX consistently delievered negative Alpha compared to the market\n",
    "\n",
    "<span>"
   ],
   "id": "247c8f1720f048b"
  },
  {
   "metadata": {
    "ExecuteTime": {
     "end_time": "2024-11-15T23:58:48.911585Z",
     "start_time": "2024-11-15T23:58:48.891478Z"
    }
   },
   "cell_type": "code",
   "source": [
    "beg_reg = pmh.calc_iterative_regression(sample_beg[['GMWAX']], sample_beg[['SPY']], keep_columns=['Alpha', 'R-Squared', 'Beta'])\n",
    "beg_reg.index.name = '1996-2011'\n",
    "beg_reg"
   ],
   "id": "e7ab1f40aa73f353",
   "outputs": [
    {
     "name": "stdout",
     "output_type": "stream",
     "text": [
      "\"calc_regression\" assumes excess returns to calculate Information and Treynor Ratios\n"
     ]
    },
    {
     "data": {
      "text/plain": [
       "           Alpha  Annualized Alpha  R-Squared  SPY Beta\n",
       "1996-2011                                              \n",
       "GMWAX     0.0023            0.0270     0.6487    0.5421"
      ],
      "text/html": [
       "<div>\n",
       "<style scoped>\n",
       "    .dataframe tbody tr th:only-of-type {\n",
       "        vertical-align: middle;\n",
       "    }\n",
       "\n",
       "    .dataframe tbody tr th {\n",
       "        vertical-align: top;\n",
       "    }\n",
       "\n",
       "    .dataframe thead th {\n",
       "        text-align: right;\n",
       "    }\n",
       "</style>\n",
       "<table border=\"1\" class=\"dataframe\">\n",
       "  <thead>\n",
       "    <tr style=\"text-align: right;\">\n",
       "      <th></th>\n",
       "      <th>Alpha</th>\n",
       "      <th>Annualized Alpha</th>\n",
       "      <th>R-Squared</th>\n",
       "      <th>SPY Beta</th>\n",
       "    </tr>\n",
       "    <tr>\n",
       "      <th>1996-2011</th>\n",
       "      <th></th>\n",
       "      <th></th>\n",
       "      <th></th>\n",
       "      <th></th>\n",
       "    </tr>\n",
       "  </thead>\n",
       "  <tbody>\n",
       "    <tr>\n",
       "      <th>GMWAX</th>\n",
       "      <td>0.0023</td>\n",
       "      <td>0.0270</td>\n",
       "      <td>0.6487</td>\n",
       "      <td>0.5421</td>\n",
       "    </tr>\n",
       "  </tbody>\n",
       "</table>\n",
       "</div>"
      ]
     },
     "execution_count": 38,
     "metadata": {},
     "output_type": "execute_result"
    }
   ],
   "execution_count": 38
  },
  {
   "metadata": {
    "ExecuteTime": {
     "end_time": "2024-11-15T23:58:49.009648Z",
     "start_time": "2024-11-15T23:58:48.998020Z"
    }
   },
   "cell_type": "code",
   "source": [
    "mid_reg = pmh.calc_iterative_regression(sample_mid[['GMWAX']], sample_mid[['SPY']], keep_columns=['Alpha', 'R-Squared', 'Beta'])\n",
    "mid_reg.index.name = '2012-2024'\n",
    "mid_reg"
   ],
   "id": "a1264d7ec7a36626",
   "outputs": [
    {
     "name": "stdout",
     "output_type": "stream",
     "text": [
      "\"calc_regression\" assumes excess returns to calculate Information and Treynor Ratios\n"
     ]
    },
    {
     "data": {
      "text/plain": [
       "            Alpha  Annualized Alpha  R-Squared  SPY Beta\n",
       "2012-2024                                               \n",
       "GMWAX     -0.0028           -0.0340     0.7487    0.5818"
      ],
      "text/html": [
       "<div>\n",
       "<style scoped>\n",
       "    .dataframe tbody tr th:only-of-type {\n",
       "        vertical-align: middle;\n",
       "    }\n",
       "\n",
       "    .dataframe tbody tr th {\n",
       "        vertical-align: top;\n",
       "    }\n",
       "\n",
       "    .dataframe thead th {\n",
       "        text-align: right;\n",
       "    }\n",
       "</style>\n",
       "<table border=\"1\" class=\"dataframe\">\n",
       "  <thead>\n",
       "    <tr style=\"text-align: right;\">\n",
       "      <th></th>\n",
       "      <th>Alpha</th>\n",
       "      <th>Annualized Alpha</th>\n",
       "      <th>R-Squared</th>\n",
       "      <th>SPY Beta</th>\n",
       "    </tr>\n",
       "    <tr>\n",
       "      <th>2012-2024</th>\n",
       "      <th></th>\n",
       "      <th></th>\n",
       "      <th></th>\n",
       "      <th></th>\n",
       "    </tr>\n",
       "  </thead>\n",
       "  <tbody>\n",
       "    <tr>\n",
       "      <th>GMWAX</th>\n",
       "      <td>-0.0028</td>\n",
       "      <td>-0.0340</td>\n",
       "      <td>0.7487</td>\n",
       "      <td>0.5818</td>\n",
       "    </tr>\n",
       "  </tbody>\n",
       "</table>\n",
       "</div>"
      ]
     },
     "execution_count": 39,
     "metadata": {},
     "output_type": "execute_result"
    }
   ],
   "execution_count": 39
  },
  {
   "metadata": {
    "ExecuteTime": {
     "end_time": "2024-11-15T23:58:49.079923Z",
     "start_time": "2024-11-15T23:58:49.074523Z"
    }
   },
   "cell_type": "code",
   "source": [
    "full_reg = pmh.calc_iterative_regression(sample_full[['GMWAX']], sample_full[['SPY']], keep_columns=['Alpha', 'R-Squared', 'Beta'])\n",
    "full_reg.index.name = '1996-2024'\n",
    "full_reg"
   ],
   "id": "4c2afb157101aa9e",
   "outputs": [
    {
     "name": "stdout",
     "output_type": "stream",
     "text": [
      "\"calc_regression\" assumes excess returns to calculate Information and Treynor Ratios\n"
     ]
    },
    {
     "data": {
      "text/plain": [
       "           Alpha  Annualized Alpha  R-Squared  SPY Beta\n",
       "1996-2024                                              \n",
       "GMWAX     0.0000            0.0006     0.6802    0.5526"
      ],
      "text/html": [
       "<div>\n",
       "<style scoped>\n",
       "    .dataframe tbody tr th:only-of-type {\n",
       "        vertical-align: middle;\n",
       "    }\n",
       "\n",
       "    .dataframe tbody tr th {\n",
       "        vertical-align: top;\n",
       "    }\n",
       "\n",
       "    .dataframe thead th {\n",
       "        text-align: right;\n",
       "    }\n",
       "</style>\n",
       "<table border=\"1\" class=\"dataframe\">\n",
       "  <thead>\n",
       "    <tr style=\"text-align: right;\">\n",
       "      <th></th>\n",
       "      <th>Alpha</th>\n",
       "      <th>Annualized Alpha</th>\n",
       "      <th>R-Squared</th>\n",
       "      <th>SPY Beta</th>\n",
       "    </tr>\n",
       "    <tr>\n",
       "      <th>1996-2024</th>\n",
       "      <th></th>\n",
       "      <th></th>\n",
       "      <th></th>\n",
       "      <th></th>\n",
       "    </tr>\n",
       "  </thead>\n",
       "  <tbody>\n",
       "    <tr>\n",
       "      <th>GMWAX</th>\n",
       "      <td>0.0000</td>\n",
       "      <td>0.0006</td>\n",
       "      <td>0.6802</td>\n",
       "      <td>0.5526</td>\n",
       "    </tr>\n",
       "  </tbody>\n",
       "</table>\n",
       "</div>"
      ]
     },
     "execution_count": 40,
     "metadata": {},
     "output_type": "execute_result"
    }
   ],
   "execution_count": 40
  },
  {
   "metadata": {},
   "cell_type": "markdown",
   "source": [
    "4. Above, we’ve evaluated GMO’s macro fund, “GMWAX,” as studied in the case. Now, consider GMO’s equity fund, “GMGEX.”  \n",
    "Compute the performance stats of 3.1-3.3 for GMGEX. What are some of the major differences between these two strategies?"
   ],
   "id": "ea78fb1f87e03ba9"
  },
  {
   "metadata": {},
   "cell_type": "markdown",
   "source": [
    "<span style=\"color:blue\">\n",
    "There are a lot of differences between the indices. First of all the SPY Beta is a lot higher and I would consider this a high beta strategy. The R^2 across samples varies from 25% to 75%, due to different market conditions. You can see the difference from 1996 to 2011 when conditions were not good in the market R^2 was at .76 but towards 2012-2024 r^2 is only 25%\n",
    "\n",
    "<span>"
   ],
   "id": "731eb19314a5a3a"
  },
  {
   "metadata": {
    "ExecuteTime": {
     "end_time": "2024-11-15T23:58:49.229243Z",
     "start_time": "2024-11-15T23:58:49.223779Z"
    }
   },
   "cell_type": "code",
   "source": [
    "beg_reg = pmh.calc_iterative_regression(sample_beg[['GMGEX']], sample_beg[['SPY']],\n",
    "                                        keep_columns=['Alpha', 'R-Squared', 'Beta'])\n",
    "beg_reg.index.name = '1996-2011'\n",
    "beg_reg\n"
   ],
   "id": "92a83c0a15af2284",
   "outputs": [
    {
     "name": "stdout",
     "output_type": "stream",
     "text": [
      "\"calc_regression\" assumes excess returns to calculate Information and Treynor Ratios\n"
     ]
    },
    {
     "data": {
      "text/plain": [
       "            Alpha  Annualized Alpha  R-Squared  SPY Beta\n",
       "1996-2011                                               \n",
       "GMGEX     -0.0026           -0.0312     0.7259    0.7642"
      ],
      "text/html": [
       "<div>\n",
       "<style scoped>\n",
       "    .dataframe tbody tr th:only-of-type {\n",
       "        vertical-align: middle;\n",
       "    }\n",
       "\n",
       "    .dataframe tbody tr th {\n",
       "        vertical-align: top;\n",
       "    }\n",
       "\n",
       "    .dataframe thead th {\n",
       "        text-align: right;\n",
       "    }\n",
       "</style>\n",
       "<table border=\"1\" class=\"dataframe\">\n",
       "  <thead>\n",
       "    <tr style=\"text-align: right;\">\n",
       "      <th></th>\n",
       "      <th>Alpha</th>\n",
       "      <th>Annualized Alpha</th>\n",
       "      <th>R-Squared</th>\n",
       "      <th>SPY Beta</th>\n",
       "    </tr>\n",
       "    <tr>\n",
       "      <th>1996-2011</th>\n",
       "      <th></th>\n",
       "      <th></th>\n",
       "      <th></th>\n",
       "      <th></th>\n",
       "    </tr>\n",
       "  </thead>\n",
       "  <tbody>\n",
       "    <tr>\n",
       "      <th>GMGEX</th>\n",
       "      <td>-0.0026</td>\n",
       "      <td>-0.0312</td>\n",
       "      <td>0.7259</td>\n",
       "      <td>0.7642</td>\n",
       "    </tr>\n",
       "  </tbody>\n",
       "</table>\n",
       "</div>"
      ]
     },
     "execution_count": 41,
     "metadata": {},
     "output_type": "execute_result"
    }
   ],
   "execution_count": 41
  },
  {
   "metadata": {
    "ExecuteTime": {
     "end_time": "2024-11-15T23:58:49.321204Z",
     "start_time": "2024-11-15T23:58:49.314902Z"
    }
   },
   "cell_type": "code",
   "source": [
    "mid_reg = pmh.calc_iterative_regression(sample_mid[['GMGEX']], sample_mid[['SPY']], keep_columns=['Alpha', 'R-Squared', 'Beta'])\n",
    "mid_reg.index.name = '2012-2024'\n",
    "mid_reg"
   ],
   "id": "1a48907685002788",
   "outputs": [
    {
     "name": "stdout",
     "output_type": "stream",
     "text": [
      "\"calc_regression\" assumes excess returns to calculate Information and Treynor Ratios\n"
     ]
    },
    {
     "data": {
      "text/plain": [
       "            Alpha  Annualized Alpha  R-Squared  SPY Beta\n",
       "2012-2024                                               \n",
       "GMGEX     -0.0092           -0.1102     0.2525    0.8381"
      ],
      "text/html": [
       "<div>\n",
       "<style scoped>\n",
       "    .dataframe tbody tr th:only-of-type {\n",
       "        vertical-align: middle;\n",
       "    }\n",
       "\n",
       "    .dataframe tbody tr th {\n",
       "        vertical-align: top;\n",
       "    }\n",
       "\n",
       "    .dataframe thead th {\n",
       "        text-align: right;\n",
       "    }\n",
       "</style>\n",
       "<table border=\"1\" class=\"dataframe\">\n",
       "  <thead>\n",
       "    <tr style=\"text-align: right;\">\n",
       "      <th></th>\n",
       "      <th>Alpha</th>\n",
       "      <th>Annualized Alpha</th>\n",
       "      <th>R-Squared</th>\n",
       "      <th>SPY Beta</th>\n",
       "    </tr>\n",
       "    <tr>\n",
       "      <th>2012-2024</th>\n",
       "      <th></th>\n",
       "      <th></th>\n",
       "      <th></th>\n",
       "      <th></th>\n",
       "    </tr>\n",
       "  </thead>\n",
       "  <tbody>\n",
       "    <tr>\n",
       "      <th>GMGEX</th>\n",
       "      <td>-0.0092</td>\n",
       "      <td>-0.1102</td>\n",
       "      <td>0.2525</td>\n",
       "      <td>0.8381</td>\n",
       "    </tr>\n",
       "  </tbody>\n",
       "</table>\n",
       "</div>"
      ]
     },
     "execution_count": 42,
     "metadata": {},
     "output_type": "execute_result"
    }
   ],
   "execution_count": 42
  },
  {
   "metadata": {
    "ExecuteTime": {
     "end_time": "2024-11-15T23:58:49.432723Z",
     "start_time": "2024-11-15T23:58:49.425759Z"
    }
   },
   "cell_type": "code",
   "source": [
    "full_reg = pmh.calc_iterative_regression(sample_full[['GMGEX']], sample_full[['SPY']], keep_columns=['Alpha', 'R-Squared', 'Beta'])\n",
    "full_reg.index.name = '1996-2024'\n",
    "full_reg"
   ],
   "id": "c1c075031fc2aa45",
   "outputs": [
    {
     "name": "stdout",
     "output_type": "stream",
     "text": [
      "\"calc_regression\" assumes excess returns to calculate Information and Treynor Ratios\n"
     ]
    },
    {
     "data": {
      "text/plain": [
       "            Alpha  Annualized Alpha  R-Squared  SPY Beta\n",
       "1996-2024                                               \n",
       "GMGEX     -0.0054           -0.0648     0.3979    0.7867"
      ],
      "text/html": [
       "<div>\n",
       "<style scoped>\n",
       "    .dataframe tbody tr th:only-of-type {\n",
       "        vertical-align: middle;\n",
       "    }\n",
       "\n",
       "    .dataframe tbody tr th {\n",
       "        vertical-align: top;\n",
       "    }\n",
       "\n",
       "    .dataframe thead th {\n",
       "        text-align: right;\n",
       "    }\n",
       "</style>\n",
       "<table border=\"1\" class=\"dataframe\">\n",
       "  <thead>\n",
       "    <tr style=\"text-align: right;\">\n",
       "      <th></th>\n",
       "      <th>Alpha</th>\n",
       "      <th>Annualized Alpha</th>\n",
       "      <th>R-Squared</th>\n",
       "      <th>SPY Beta</th>\n",
       "    </tr>\n",
       "    <tr>\n",
       "      <th>1996-2024</th>\n",
       "      <th></th>\n",
       "      <th></th>\n",
       "      <th></th>\n",
       "      <th></th>\n",
       "    </tr>\n",
       "  </thead>\n",
       "  <tbody>\n",
       "    <tr>\n",
       "      <th>GMGEX</th>\n",
       "      <td>-0.0054</td>\n",
       "      <td>-0.0648</td>\n",
       "      <td>0.3979</td>\n",
       "      <td>0.7867</td>\n",
       "    </tr>\n",
       "  </tbody>\n",
       "</table>\n",
       "</div>"
      ]
     },
     "execution_count": 43,
     "metadata": {},
     "output_type": "execute_result"
    }
   ],
   "execution_count": 43
  },
  {
   "metadata": {
    "ExecuteTime": {
     "end_time": "2024-11-15T23:58:49.649996Z",
     "start_time": "2024-11-15T23:58:49.648390Z"
    }
   },
   "cell_type": "code",
   "source": "",
   "id": "20c5d49efda1a6da",
   "outputs": [],
   "execution_count": null
  },
  {
   "metadata": {},
   "cell_type": "markdown",
   "source": [
    "# 3. Forecast Regressions\n",
    "\n",
    "This section utilizes data from the file, `gmo_data.xlsx`.\n",
    "\n",
    "### 1. Lagged Regression Analysis\n",
    "\n",
    "Consider the lagged regression model where the regressor X  is a period behind the target $$ r^{\\text{SPY}}$$:\n",
    "   \n",
    "$$\n",
    "r^{\\text{SPY}}_t = \\alpha^{\\text{SPY}, X} + (\\beta^{\\text{SPY}, X})' X_{t-1} + \\epsilon^{\\text{SPY}, X}_t\n",
    "\\tag{1}\n",
    "$$\n",
    "\n",
    "Estimate Equation (1) and report the \\( R^2 \\), along with the OLS estimates for alpha and beta. Perform this analysis for the following cases:\n",
    "\n",
    "- \\( X \\) as a single regressor: the dividend-price ratio.\n",
    "- \\( X \\) as a single regressor: the earnings-price ratio.\n",
    "- \\( X \\) as three regressors: the dividend-price ratio, the earnings-price ratio, and the 10-year yield.\n",
    "\n",
    "For each case, report the \\( R^2 \\)."
   ],
   "id": "a9baf025aa80badf"
  },
  {
   "metadata": {
    "ExecuteTime": {
     "end_time": "2024-11-15T23:58:49.711332Z",
     "start_time": "2024-11-15T23:58:49.699053Z"
    }
   },
   "cell_type": "code",
   "source": [
    "dp = signals[['SPX DVD YLD']]\n",
    "dp_lagged = dp.shift(1)\n",
    "#dp_lagged.dropna(inplace=True)\n",
    "spy = excess_returns[['SPY']]\n",
    "dp_reg = pmh.calc_regression(spy, dp_lagged)\n",
    "dp_reg.rename(columns = {'R-Squared':'D/P R^2'}, inplace = True)\n",
    "dp_reg.index = ['SPX DVD YLD']\n",
    "\n",
    "\n",
    "pe = signals[['SPX P/E']]\n",
    "pe_lagged = pe.shift(1)\n",
    "#pe_lagged.dropna(inplace=True)\n",
    "pe_reg = pmh.calc_regression(spy, pe_lagged)\n",
    "pe_reg.rename(columns={'R-Squared': 'P/E R^2'}, inplace=True)\n",
    "pe_reg.index = ['SPX P/E']\n",
    "\n",
    "\n",
    "mult_regression = signals\n",
    "mult_regression_lagged = signals.shift(1)\n",
    "#mult_regression_lagged.dropna(inplace=True)\n",
    "multi_reg = pmh.calc_iterative_regression(spy, mult_regression_lagged)\n",
    "multi_reg.rename(columns={'R-Squared': 'D/P + P/E + TBill R^2'}, inplace=True)\n",
    "\n",
    "\n",
    "reg_summary = pd.concat([dp_reg, pe_reg], axis=1)\n",
    "display(reg_summary[['D/P R^2','P/E R^2']])"
   ],
   "id": "679363d8fb186e65",
   "outputs": [
    {
     "name": "stdout",
     "output_type": "stream",
     "text": [
      "Regression assumes 'annual_factor' equals to 12 since it was not provided\n",
      "\"calc_regression\" assumes excess returns to calculate Information and Treynor Ratios\n",
      "Regression assumes 'annual_factor' equals to 12 since it was not provided\n",
      "\"calc_regression\" assumes excess returns to calculate Information and Treynor Ratios\n",
      "\"calc_regression\" assumes excess returns to calculate Information and Treynor Ratios\n"
     ]
    },
    {
     "data": {
      "text/plain": [
       "             D/P R^2  P/E R^2\n",
       "SPX DVD YLD   0.0140      NaN\n",
       "SPX P/E          NaN   0.0060"
      ],
      "text/html": [
       "<div>\n",
       "<style scoped>\n",
       "    .dataframe tbody tr th:only-of-type {\n",
       "        vertical-align: middle;\n",
       "    }\n",
       "\n",
       "    .dataframe tbody tr th {\n",
       "        vertical-align: top;\n",
       "    }\n",
       "\n",
       "    .dataframe thead th {\n",
       "        text-align: right;\n",
       "    }\n",
       "</style>\n",
       "<table border=\"1\" class=\"dataframe\">\n",
       "  <thead>\n",
       "    <tr style=\"text-align: right;\">\n",
       "      <th></th>\n",
       "      <th>D/P R^2</th>\n",
       "      <th>P/E R^2</th>\n",
       "    </tr>\n",
       "  </thead>\n",
       "  <tbody>\n",
       "    <tr>\n",
       "      <th>SPX DVD YLD</th>\n",
       "      <td>0.0140</td>\n",
       "      <td>NaN</td>\n",
       "    </tr>\n",
       "    <tr>\n",
       "      <th>SPX P/E</th>\n",
       "      <td>NaN</td>\n",
       "      <td>0.0060</td>\n",
       "    </tr>\n",
       "  </tbody>\n",
       "</table>\n",
       "</div>"
      ]
     },
     "metadata": {},
     "output_type": "display_data"
    }
   ],
   "execution_count": 44
  },
  {
   "metadata": {},
   "cell_type": "markdown",
   "source": "",
   "id": "f805f6f1308dbf2"
  },
  {
   "metadata": {},
   "cell_type": "markdown",
   "source": [
    "2. For each of the three regressions, let’s try to utilize the resulting forecast in a trading strategy.\n",
    "\n",
    "- Build the forecasted SPY returns: $${r}_{t+1}^{SPY}$$. Note that this denotes the forecast made using $$X_t$$ to forecast the $$(t + 1)$$ return.\n",
    "\n",
    "- Set the scale of the investment in SPY equal to 100 times the forecasted value:  \n",
    " $$ w_t = 100 \\cdot \\hat{r}_{t+1}^{SPY} $$\n",
    "  We are not taking this scaling too seriously. We just want the strategy to go bigger in periods where the forecast is high and to withdraw in periods where the forecast is low, or even negative.\n",
    "\n",
    "- Calculate the return on this strategy:  \n",
    "$$ r_{t+1}^x = w_t r_{t+1}^{SPY} $$\n",
    "\n",
    "You should now have the trading strategy returns, $$ r^x $$ for each of the forecasts. For each strategy, estimate:\n",
    "- mean, volatility, Sharpe,\n",
    "- max-drawdown\n",
    "- market alpha\n",
    "- market beta\n",
    "- market Information ratio"
   ],
   "id": "2afa536c8da96965"
  },
  {
   "metadata": {
    "ExecuteTime": {
     "end_time": "2024-11-15T23:59:41.882081Z",
     "start_time": "2024-11-15T23:59:41.878302Z"
    }
   },
   "cell_type": "code",
   "source": "#dont understand the math below",
   "id": "cac525e831ce64a6",
   "outputs": [],
   "execution_count": 46
  },
  {
   "metadata": {
    "ExecuteTime": {
     "end_time": "2024-11-15T23:59:42.244187Z",
     "start_time": "2024-11-15T23:59:42.235007Z"
    }
   },
   "cell_type": "code",
   "source": [
    "dp_return = (signals.loc[:,'SPX DVD YLD'].shift(1).to_frame() * dp_reg['SPX DVD YLD Beta']) + dp_reg['Alpha']   #shifted signals, and multiplied them by the beta and added the alpha\n",
    "dp_return = dp_return.rename(columns = {'SPX DVD YLD': 'Forecasted Returns'}) * 100\n",
    "dp_forecast_return = pd.DataFrame(dp_return['Forecasted Returns'] * total_returns.loc[:, ['SPY']]['SPY'], columns = dp_return.columns, index = dp_return.index)\n",
    "\n",
    "ep_return = (signals.loc[:,'SPX P/E'].shift(1).to_frame() * pe_reg['SPX P/E Beta']) + pe_reg['Alpha']   #shifted signals, and multiplied them by the beta and added the alpha\n",
    "ep_return = ep_return.rename(columns = {'SPX P/E': 'Forecasted Returns'}) * 100\n",
    "ep_return_forecasted = pd.DataFrame(ep_return['Forecasted Returns'] * total_returns.loc[:, ['SPY']]['SPY'], columns = ep_return.columns, index = ep_return.index)\n",
    "\n",
    "forecasted_rets = (np.array(signals.shift(1).loc[:, ['SPX DVD YLD', 'SPX P/E', 'TNote 10YR']]) @ np.array(multi_reg.loc[:, ['SPX DVD YLD Beta', 'SPX P/E Beta', 'TNote 10YR Beta']].T))\n",
    "multiple_factor_return = (pd.DataFrame(forecasted_rets, columns = ['Forecasted Returns'],index= signals.index)) \n",
    "multiple_factor_return['Forecasted Returns'] = (multiple_factor_return['Forecasted Returns'] + float(multi_reg['Alpha']/12))*100\n",
    "multiple_forecast_return = pd.DataFrame(multiple_factor_return['Forecasted Returns'] *total_returns.loc[:,['SPY']]['SPY'], columns=multiple_factor_return.columns, index=multiple_factor_return.index)\n",
    "\n"
   ],
   "id": "468125bcee20e3f5",
   "outputs": [],
   "execution_count": 47
  },
  {
   "metadata": {
    "ExecuteTime": {
     "end_time": "2024-11-15T23:59:44.799947Z",
     "start_time": "2024-11-15T23:59:44.761994Z"
    }
   },
   "cell_type": "code",
   "source": [
    "strategy = {'DP': dp_forecast_return.dropna(),\n",
    "          'EP': ep_return_forecasted.dropna(),\n",
    "          'DP-EP-US3M': multiple_forecast_return.dropna()\n",
    "         }\n",
    "factor = excess_returns.loc[:,['SPY']]\n",
    "total_strategy_summary = []\n",
    "\n",
    "for key,value in strategy.items():\n",
    "    strat = strategy[key]\n",
    "    strat_summary = performance_summary(strat)\n",
    "    strat_summary.index = [key]\n",
    "    strat_summary['Negative Risk Premium Months'] = len(strat[strat['Forecasted Returns'] - risk_free['TBill 3M'] <0])\n",
    "    strat_summary['Total Months'] = len(strat)\n",
    "    ts = time_series_regression(strat, factor[strat.index[0]:].squeeze(), False)\n",
    "    strat_summary['Market Beta'] = ts['SPY beta'].values\n",
    "    strat_summary['Market Alpha'] = ts['alpha_hat'].values\n",
    "    strat_summary['Market Information Ratio'] = ts['info_ratio'].values\n",
    "    \n",
    "    total_strategy_summary.append(strat_summary)\n",
    "    \n",
    "total_strategy_df = pd.concat(total_strategy_summary)\n",
    "  \n",
    "total_strategy_df.loc[:,['Mean','Volatility','Sharpe Ratio','Max Drawdown','Market Beta','Market Alpha','Market Information Ratio']]"
   ],
   "id": "d4791350423f44a3",
   "outputs": [
    {
     "data": {
      "text/plain": [
       "             Mean  Volatility  Sharpe Ratio  Max Drawdown  Market Beta  \\\n",
       "DP         0.0977      0.1654        0.5904       -0.7189       0.7896   \n",
       "EP         0.0818      0.1234        0.6631       -0.5507       0.7082   \n",
       "DP-EP-US3M 0.2478      0.3583        0.6917       -0.9099       2.1995   \n",
       "\n",
       "            Market Alpha  Market Information Ratio  \n",
       "DP                0.0331                    0.2967  \n",
       "EP                0.0239                    0.4201  \n",
       "DP-EP-US3M        0.0680                    0.6014  "
      ],
      "text/html": [
       "<div>\n",
       "<style scoped>\n",
       "    .dataframe tbody tr th:only-of-type {\n",
       "        vertical-align: middle;\n",
       "    }\n",
       "\n",
       "    .dataframe tbody tr th {\n",
       "        vertical-align: top;\n",
       "    }\n",
       "\n",
       "    .dataframe thead th {\n",
       "        text-align: right;\n",
       "    }\n",
       "</style>\n",
       "<table border=\"1\" class=\"dataframe\">\n",
       "  <thead>\n",
       "    <tr style=\"text-align: right;\">\n",
       "      <th></th>\n",
       "      <th>Mean</th>\n",
       "      <th>Volatility</th>\n",
       "      <th>Sharpe Ratio</th>\n",
       "      <th>Max Drawdown</th>\n",
       "      <th>Market Beta</th>\n",
       "      <th>Market Alpha</th>\n",
       "      <th>Market Information Ratio</th>\n",
       "    </tr>\n",
       "  </thead>\n",
       "  <tbody>\n",
       "    <tr>\n",
       "      <th>DP</th>\n",
       "      <td>0.0977</td>\n",
       "      <td>0.1654</td>\n",
       "      <td>0.5904</td>\n",
       "      <td>-0.7189</td>\n",
       "      <td>0.7896</td>\n",
       "      <td>0.0331</td>\n",
       "      <td>0.2967</td>\n",
       "    </tr>\n",
       "    <tr>\n",
       "      <th>EP</th>\n",
       "      <td>0.0818</td>\n",
       "      <td>0.1234</td>\n",
       "      <td>0.6631</td>\n",
       "      <td>-0.5507</td>\n",
       "      <td>0.7082</td>\n",
       "      <td>0.0239</td>\n",
       "      <td>0.4201</td>\n",
       "    </tr>\n",
       "    <tr>\n",
       "      <th>DP-EP-US3M</th>\n",
       "      <td>0.2478</td>\n",
       "      <td>0.3583</td>\n",
       "      <td>0.6917</td>\n",
       "      <td>-0.9099</td>\n",
       "      <td>2.1995</td>\n",
       "      <td>0.0680</td>\n",
       "      <td>0.6014</td>\n",
       "    </tr>\n",
       "  </tbody>\n",
       "</table>\n",
       "</div>"
      ]
     },
     "execution_count": 48,
     "metadata": {},
     "output_type": "execute_result"
    }
   ],
   "execution_count": 48
  },
  {
   "metadata": {},
   "cell_type": "markdown",
   "source": [
    "### Risk Premium Analysis for GMO Strategies\n",
    "\n",
    "#### Problem Statement\n",
    "GMO believes a risk premium is compensation for a security’s tendency to lose money at “bad times.” Let’s analyze the risk characteristics.\n",
    "\n",
    "\n",
    "#### Tasks:\n",
    "\n",
    "1. **Calculate Monthly Value-at-Risk (VaR):**\n",
    "   - For both strategies, the market, and GMO, calculate the monthly VaR at $pi = 0.05$.\n",
    "   - Use the quantile of the historical data for this VaR calculation.\n",
    "\n",
    "2. **Performance Comparison:**\n",
    "   - The GMO case mentions that stocks under-performed short-term bonds from 2000 to 2011.\n",
    "   - Does the dynamic portfolio outlined above under-perform the risk-free rate over this time?\n",
    "\n",
    "3. **Negative Risk Premium Estimation:**\n",
    "   - Based on the regression estimates, in how many periods do we estimate a negative risk premium?\n",
    "\n",
    "4. **Risk Assessment:**\n",
    "   - Do you believe the dynamic strategy takes on extra risk? Provide a justification.\n"
   ],
   "id": "83c1e1e8b628337c"
  },
  {
   "metadata": {},
   "cell_type": "markdown",
   "source": [
    "<span style=\"color:blue\">\n",
    "I don't believe its worth taking on the dynamix strategy for US3M because US3M outperformed. See graph below. At the same time it has a higher sharpe than the strategies\n",
    "\n",
    "<span>"
   ],
   "id": "140ae81a713bc443"
  },
  {
   "metadata": {
    "ExecuteTime": {
     "end_time": "2024-11-15T23:59:47.916767Z",
     "start_time": "2024-11-15T23:59:47.909890Z"
    }
   },
   "cell_type": "code",
   "source": [
    "strat_var = total_strategy_df[['VaR (0.05)']]\n",
    "market_var = excess_returns.loc[:,['SPY']].quantile(0.05)\n",
    "\n",
    "gmo_var = excess_returns.loc[:,['GMWAX']].quantile(0.05)\n",
    "\n",
    "pd.concat([strat_var,market_var,gmo_var],axis=1)"
   ],
   "id": "381c6fcfb883380d",
   "outputs": [
    {
     "data": {
      "text/plain": [
       "             VaR (0.05)  0.0500  0.0500\n",
       "DP              -0.0487     NaN     NaN\n",
       "EP              -0.0493     NaN     NaN\n",
       "DP-EP-US3M      -0.1516     NaN     NaN\n",
       "SPY                 NaN -0.0797     NaN\n",
       "GMWAX               NaN     NaN -0.0414"
      ],
      "text/html": [
       "<div>\n",
       "<style scoped>\n",
       "    .dataframe tbody tr th:only-of-type {\n",
       "        vertical-align: middle;\n",
       "    }\n",
       "\n",
       "    .dataframe tbody tr th {\n",
       "        vertical-align: top;\n",
       "    }\n",
       "\n",
       "    .dataframe thead th {\n",
       "        text-align: right;\n",
       "    }\n",
       "</style>\n",
       "<table border=\"1\" class=\"dataframe\">\n",
       "  <thead>\n",
       "    <tr style=\"text-align: right;\">\n",
       "      <th></th>\n",
       "      <th>VaR (0.05)</th>\n",
       "      <th>0.0500</th>\n",
       "      <th>0.0500</th>\n",
       "    </tr>\n",
       "  </thead>\n",
       "  <tbody>\n",
       "    <tr>\n",
       "      <th>DP</th>\n",
       "      <td>-0.0487</td>\n",
       "      <td>NaN</td>\n",
       "      <td>NaN</td>\n",
       "    </tr>\n",
       "    <tr>\n",
       "      <th>EP</th>\n",
       "      <td>-0.0493</td>\n",
       "      <td>NaN</td>\n",
       "      <td>NaN</td>\n",
       "    </tr>\n",
       "    <tr>\n",
       "      <th>DP-EP-US3M</th>\n",
       "      <td>-0.1516</td>\n",
       "      <td>NaN</td>\n",
       "      <td>NaN</td>\n",
       "    </tr>\n",
       "    <tr>\n",
       "      <th>SPY</th>\n",
       "      <td>NaN</td>\n",
       "      <td>-0.0797</td>\n",
       "      <td>NaN</td>\n",
       "    </tr>\n",
       "    <tr>\n",
       "      <th>GMWAX</th>\n",
       "      <td>NaN</td>\n",
       "      <td>NaN</td>\n",
       "      <td>-0.0414</td>\n",
       "    </tr>\n",
       "  </tbody>\n",
       "</table>\n",
       "</div>"
      ]
     },
     "execution_count": 49,
     "metadata": {},
     "output_type": "execute_result"
    }
   ],
   "execution_count": 49
  },
  {
   "metadata": {
    "ExecuteTime": {
     "end_time": "2024-11-16T00:05:53.268237Z",
     "start_time": "2024-11-16T00:05:53.100941Z"
    }
   },
   "cell_type": "code",
   "source": [
    "dp_forecast_return.rename(columns = {'Forecasted Returns':'D/P'}, inplace = True)\n",
    "ep_return_forecasted.rename(columns = {'Forecasted Returns':'EP'}, inplace = True)\n",
    "multiple_forecast_return.rename(columns = {'Forecasted Returns':'M'}, inplace = True)\n",
    "summary = plot_cumulative_returns(dp_forecast_return.loc['2000':'2011'], ep_return_forecasted.loc['2000':'2011'], multiple_forecast_return.loc['2000':'2011'], risk_free[['TBill 3M']].loc['2000':'2011'], return_stats=True)\n",
    "display(pd.DataFrame(summary))\n",
    "print('Underperform')\n",
    "\n",
    "    "
   ],
   "id": "9cff174da69db7df",
   "outputs": [
    {
     "data": {
      "text/plain": [
       "<Figure size 1200x600 with 1 Axes>"
      ],
      "image/png": "[encoded data removed]"
     },
     "metadata": {},
     "output_type": "display_data"
    },
    {
     "data": {
      "text/plain": [
       "              DF1: D/P  DF2: EP  DF3: M  DF4: TBill 3M\n",
       "Mean            0.0051   0.0040  0.0070         0.0019\n",
       "Volatility      0.0634   0.0433  0.1157         0.0017\n",
       "Sharpe Ratio    0.0802   0.0928  0.0606         1.1421\n",
       "Minimum        -0.2986  -0.1747 -0.4547        -0.0000\n",
       "Maximum         0.3000   0.1368  0.4257         0.0053\n",
       "VaR (5%)       -0.0537  -0.0644 -0.1743         0.0000"
      ],
      "text/html": [
       "<div>\n",
       "<style scoped>\n",
       "    .dataframe tbody tr th:only-of-type {\n",
       "        vertical-align: middle;\n",
       "    }\n",
       "\n",
       "    .dataframe tbody tr th {\n",
       "        vertical-align: top;\n",
       "    }\n",
       "\n",
       "    .dataframe thead th {\n",
       "        text-align: right;\n",
       "    }\n",
       "</style>\n",
       "<table border=\"1\" class=\"dataframe\">\n",
       "  <thead>\n",
       "    <tr style=\"text-align: right;\">\n",
       "      <th></th>\n",
       "      <th>DF1: D/P</th>\n",
       "      <th>DF2: EP</th>\n",
       "      <th>DF3: M</th>\n",
       "      <th>DF4: TBill 3M</th>\n",
       "    </tr>\n",
       "  </thead>\n",
       "  <tbody>\n",
       "    <tr>\n",
       "      <th>Mean</th>\n",
       "      <td>0.0051</td>\n",
       "      <td>0.0040</td>\n",
       "      <td>0.0070</td>\n",
       "      <td>0.0019</td>\n",
       "    </tr>\n",
       "    <tr>\n",
       "      <th>Volatility</th>\n",
       "      <td>0.0634</td>\n",
       "      <td>0.0433</td>\n",
       "      <td>0.1157</td>\n",
       "      <td>0.0017</td>\n",
       "    </tr>\n",
       "    <tr>\n",
       "      <th>Sharpe Ratio</th>\n",
       "      <td>0.0802</td>\n",
       "      <td>0.0928</td>\n",
       "      <td>0.0606</td>\n",
       "      <td>1.1421</td>\n",
       "    </tr>\n",
       "    <tr>\n",
       "      <th>Minimum</th>\n",
       "      <td>-0.2986</td>\n",
       "      <td>-0.1747</td>\n",
       "      <td>-0.4547</td>\n",
       "      <td>-0.0000</td>\n",
       "    </tr>\n",
       "    <tr>\n",
       "      <th>Maximum</th>\n",
       "      <td>0.3000</td>\n",
       "      <td>0.1368</td>\n",
       "      <td>0.4257</td>\n",
       "      <td>0.0053</td>\n",
       "    </tr>\n",
       "    <tr>\n",
       "      <th>VaR (5%)</th>\n",
       "      <td>-0.0537</td>\n",
       "      <td>-0.0644</td>\n",
       "      <td>-0.1743</td>\n",
       "      <td>0.0000</td>\n",
       "    </tr>\n",
       "  </tbody>\n",
       "</table>\n",
       "</div>"
      ]
     },
     "metadata": {},
     "output_type": "display_data"
    },
    {
     "name": "stdout",
     "output_type": "stream",
     "text": [
      "Underperform\n"
     ]
    }
   ],
   "execution_count": 55
  },
  {
   "metadata": {
    "ExecuteTime": {
     "end_time": "2024-11-16T00:00:07.915660Z",
     "start_time": "2024-11-16T00:00:07.910550Z"
    }
   },
   "cell_type": "code",
   "source": [
    "neg_risk_premium = total_strategy_df.loc[:,['Negative Risk Premium Months','Total Months']]\n",
    "neg_risk_premium['Negative Risk Premium Months (%)'] = neg_risk_premium['Negative Risk Premium Months'] *100/ neg_risk_premium['Total Months']\n",
    "neg_risk_premium"
   ],
   "id": "71d05ce98011e8e6",
   "outputs": [
    {
     "data": {
      "text/plain": [
       "            Negative Risk Premium Months  Total Months  \\\n",
       "DP                                   142           334   \n",
       "EP                                   138           334   \n",
       "DP-EP-US3M                           122           334   \n",
       "\n",
       "            Negative Risk Premium Months (%)  \n",
       "DP                                   42.5150  \n",
       "EP                                   41.3174  \n",
       "DP-EP-US3M                           36.5269  "
      ],
      "text/html": [
       "<div>\n",
       "<style scoped>\n",
       "    .dataframe tbody tr th:only-of-type {\n",
       "        vertical-align: middle;\n",
       "    }\n",
       "\n",
       "    .dataframe tbody tr th {\n",
       "        vertical-align: top;\n",
       "    }\n",
       "\n",
       "    .dataframe thead th {\n",
       "        text-align: right;\n",
       "    }\n",
       "</style>\n",
       "<table border=\"1\" class=\"dataframe\">\n",
       "  <thead>\n",
       "    <tr style=\"text-align: right;\">\n",
       "      <th></th>\n",
       "      <th>Negative Risk Premium Months</th>\n",
       "      <th>Total Months</th>\n",
       "      <th>Negative Risk Premium Months (%)</th>\n",
       "    </tr>\n",
       "  </thead>\n",
       "  <tbody>\n",
       "    <tr>\n",
       "      <th>DP</th>\n",
       "      <td>142</td>\n",
       "      <td>334</td>\n",
       "      <td>42.5150</td>\n",
       "    </tr>\n",
       "    <tr>\n",
       "      <th>EP</th>\n",
       "      <td>138</td>\n",
       "      <td>334</td>\n",
       "      <td>41.3174</td>\n",
       "    </tr>\n",
       "    <tr>\n",
       "      <th>DP-EP-US3M</th>\n",
       "      <td>122</td>\n",
       "      <td>334</td>\n",
       "      <td>36.5269</td>\n",
       "    </tr>\n",
       "  </tbody>\n",
       "</table>\n",
       "</div>"
      ]
     },
     "execution_count": 53,
     "metadata": {},
     "output_type": "execute_result"
    }
   ],
   "execution_count": 53
  },
  {
   "metadata": {},
   "cell_type": "markdown",
   "source": [
    "# 4 Out-of-Sample Forecasting\n",
    "\n",
    "This section utilizes data from the file, `gmo_data.xlsx`. We will reconsider the previous problem of estimating Equation (1) for \\( x \\). The reported \\( R^2 \\) was the in-sample \\( R^2 \\), which examined how well the forecasts fit within the sample from which the parameters were estimated.\n",
    "\n",
    "In particular, we will focus on the case of using both the dividend-price and earnings-price ratios as signals. Let’s now consider the out-of-sample \\( R^2 \\). To do so, we need to follow these steps:\n",
    "\n",
    "- **Start at \\( t = 60 \\)**.\n",
    "- **Estimate Equation (1) only using data through time \\( t \\)**.\n",
    "- Use the estimated parameters of Equation (1), along with \\( x_{t+1} \\), to calculate the out-of-sample forecast for the following period, \\( t + 1 \\).\n",
    "- Calculate the \\( t + 1 \\) forecast error, \\( e_{t+1}^{\\text{forecast}} \\).\n",
    "- Move to \\( t = 61 \\), and repeat the process through the remainder of the sample.\n",
    "\n",
    "You now have a time series of out-of-sample prediction errors, \\( e_x \\).\n",
    "\n",
    "Calculate the time series of out-of-sample prediction errors \\( e_{\\text{null}} \\), which are based on the null forecast:\n",
    "\n",
    "1. Report the out-of-sample \\( R^2 \\):\n",
    "\n",
    "   $$ \\hat{r}^{\\text{SPY}}_{t+1} = \\hat{\\alpha} + (\\hat{\\beta}) x_{t} $$\n",
    "\n",
    "   $$ e_{t+1}^{\\text{forecast}} = r_{t+1}^{\\text{SPY}} - \\hat{r}_{t+1}^{\\text{SPY}} $$\n",
    "\n",
    "   $$ \\bar{r}^{\\text{SPY}} = \\frac{1}{T} \\sum_{i=1}^T r_{i}^{\\text{SPY}} $$\n",
    "\n",
    "   $$ e_{t+1}^{\\text{null}} = r_{t+1}^{\\text{SPY}} - \\bar{r}^{\\text{SPY}} $$\n",
    "\n",
    "   $$ R^2_{\\text{OOS}} \\equiv 1 - \\frac{\\sum_{i=61}^T \\left(e_i^{\\text{forecast}}\\right)^2}{\\sum_{i=61}^T \\left(e_i^{\\text{null}}\\right)^2} $$\n",
    "\n",
    "   Note that, unlike an in-sample \\( R^2 \\), the out-of-sample \\( R^2 \\) can be anywhere between \\((-∞, 1]\\). Did this forecasting strategy produce a positive out-of-sample \\( R^2 \\)?\n",
    "\n",
    "2. **Re-do Problem 3.2 using this out-of-sample (OOS) forecast.**  \n",
    "   How much better/worse is the OOS strategy compared to the in-sample version of Problem 3.2?\n",
    "\n",
    "3. **Re-do Problem 3.3 using this OOS forecast.**  \n",
    "   Is the point-in-time version of the strategy riskier?"
   ],
   "id": "4f6a139c4b81bb5"
  },
  {
   "metadata": {},
   "cell_type": "markdown",
   "source": [
    "<span style=\"color:red\">\n",
    "This strategy has negative r^2 meaning poor model performance. This is worse than predicting the mean for all data point\n",
    "<span>"
   ],
   "id": "11895ff01d43ab58"
  },
  {
   "metadata": {
    "ExecuteTime": {
     "end_time": "2024-11-16T06:30:54.882329Z",
     "start_time": "2024-11-16T06:30:54.497399Z"
    }
   },
   "cell_type": "code",
   "source": [
    "from statsmodels.regression.rolling import RollingOLS\n",
    "t = 60\n",
    "\n",
    "factor_1 = signals[['SPX DVD YLD']].shift(1)\n",
    "reg_rolling = OOS_r2(spy, factor_1,t)\n",
    "OOS_r2_dp = reg_rolling[0]\n",
    "OOS_r2_dp = pd.DataFrame([[OOS_r2_dp]], columns = ['OOS R-Squared'], index = ['DP'])\n",
    "\n",
    "factor_2 = signals[['SPX P/E']].shift(1)\n",
    "reg_rolling = OOS_r2(spy, factor_1,t)\n",
    "OOS_r2_ep = reg_rolling[0]\n",
    "OOS_r2_ep = pd.DataFrame([[OOS_r2_ep]], columns = ['OOS R-Squared'], index = ['EP'])\n",
    "\n",
    "\n",
    "factors = signals[['SPX DVD YLD', 'SPX P/E']].shift(1)\n",
    "reg_rolling  = OOS_r2(spy, factors, t)\n",
    "OOS_r2_epdp  = reg_rolling[0]\n",
    "OOS_r2_epdp = pd.DataFrame([[OOS_r2_epdp]], columns = ['OOS R-Squared'], index = ['DP-EP'])\n",
    "\n",
    "\n",
    "factors_tnote= signals[['TNote 10YR']]\n",
    "reg_rolling  = OOS_r2(spy, factors_tnote, t)\n",
    "OOS_r2_tnote  = reg_rolling[0]\n",
    "OOS_r2_tnote = pd.DataFrame([[OOS_r2_tnote]], columns = ['OOS R-Squared'], index = ['TNote 10YR'])\n",
    "oos_r2_sum = pd.concat([OOS_r2_dp,OOS_r2_ep,OOS_r2_epdp,OOS_r2_tnote])\n",
    "oos_r2_sum"
   ],
   "id": "4074e6e5c5f9c8de",
   "outputs": [
    {
     "data": {
      "text/plain": [
       "            OOS R-Squared\n",
       "DP                -0.0396\n",
       "EP                -0.0396\n",
       "DP-EP             -0.0577\n",
       "TNote 10YR        -0.0098"
      ],
      "text/html": [
       "<div>\n",
       "<style scoped>\n",
       "    .dataframe tbody tr th:only-of-type {\n",
       "        vertical-align: middle;\n",
       "    }\n",
       "\n",
       "    .dataframe tbody tr th {\n",
       "        vertical-align: top;\n",
       "    }\n",
       "\n",
       "    .dataframe thead th {\n",
       "        text-align: right;\n",
       "    }\n",
       "</style>\n",
       "<table border=\"1\" class=\"dataframe\">\n",
       "  <thead>\n",
       "    <tr style=\"text-align: right;\">\n",
       "      <th></th>\n",
       "      <th>OOS R-Squared</th>\n",
       "    </tr>\n",
       "  </thead>\n",
       "  <tbody>\n",
       "    <tr>\n",
       "      <th>DP</th>\n",
       "      <td>-0.0396</td>\n",
       "    </tr>\n",
       "    <tr>\n",
       "      <th>EP</th>\n",
       "      <td>-0.0396</td>\n",
       "    </tr>\n",
       "    <tr>\n",
       "      <th>DP-EP</th>\n",
       "      <td>-0.0577</td>\n",
       "    </tr>\n",
       "    <tr>\n",
       "      <th>TNote 10YR</th>\n",
       "      <td>-0.0098</td>\n",
       "    </tr>\n",
       "  </tbody>\n",
       "</table>\n",
       "</div>"
      ]
     },
     "execution_count": 98,
     "metadata": {},
     "output_type": "execute_result"
    }
   ],
   "execution_count": 98
  },
  {
   "metadata": {
    "ExecuteTime": {
     "end_time": "2024-11-16T06:31:01.387190Z",
     "start_time": "2024-11-16T06:31:01.385635Z"
    }
   },
   "cell_type": "code",
   "source": "#2",
   "id": "dfa748064a13a234",
   "outputs": [],
   "execution_count": 99
  },
  {
   "metadata": {
    "ExecuteTime": {
     "end_time": "2024-11-16T06:35:00.708629Z",
     "start_time": "2024-11-16T06:35:00.589066Z"
    }
   },
   "cell_type": "code",
   "source": [
    "factor = signals.loc[:, 'SPX P/E'].shift(1).to_frame()\n",
    "fund_ret = excess_returns.loc[factor.index[0]:, ['SPY']]\n",
    "reg_ep = OOS_r2(fund_ret, factor,60)\n",
    "oos_s_r_squared_pe = reg_ep[0]\n",
    "OOS_r2_ep = pd.DataFrame([[oos_s_r_squared_pe]], columns = ['OOS R-Squared'], index = ['EP'])\n",
    "reg_ep_params = reg_ep[1]"
   ],
   "id": "d70c1a1bdfb9238c",
   "outputs": [],
   "execution_count": 103
  },
  {
   "metadata": {
    "ExecuteTime": {
     "end_time": "2024-11-16T06:47:17.720406Z",
     "start_time": "2024-11-16T06:47:17.354298Z"
    }
   },
   "cell_type": "code",
   "source": [
    "factor = signals.loc[:,'SPX P/E'].shift(1).to_frame()\n",
    "fund_ret= excess_returns.loc[factor.index[0]:,['SPY']]\n",
    "OOS_EP_predict = OOS_strat(fund_ret,factor, 60, 100).rename(columns={'Strat Returns':'EP_OOS_Returns'})\n",
    "\n",
    "factor = signals.loc[:,'SPX DVD YLD'].shift(1).to_frame()\n",
    "fund_ret= excess_returns.loc[factor.index[0]:,['SPY']]\n",
    "OOS_DP_predict = OOS_strat(fund_ret,factor, 60, 100).rename(columns={'Strat Returns':'DP_OOS_Returns'})\n",
    "\n",
    "factor = signals.loc[:,['SPX DVD YLD','SPX P/E']].shift(1)\n",
    "fund_ret= excess_returns.loc[factor.index[0]:,['SPY']]\n",
    "OOS_EPDP_predict = OOS_strat(fund_ret,factor, 60, 100).rename(columns={'Strat Returns':'DP-EP_OOS_Returns'})\n",
    "\n",
    "\n",
    "factor = signals.loc[:,['SPX DVD YLD','SPX P/E','TNote 10YR']].shift(1)\n",
    "fund_ret= excess_returns.loc[factor.index[0]:,['SPY']]\n",
    "OOS_all_predict = OOS_strat(fund_ret,factor, 60, 100).rename(columns={'Strat Returns':'All_OOS_Returns'})\n",
    "\n",
    "\n",
    "\n"
   ],
   "id": "9d225d7397d42975",
   "outputs": [],
   "execution_count": 115
  },
  {
   "metadata": {
    "ExecuteTime": {
     "end_time": "2024-11-16T06:47:17.857402Z",
     "start_time": "2024-11-16T06:47:17.750484Z"
    }
   },
   "cell_type": "code",
   "source": [
    "stats_plot = plot_cumulative_returns(OOS_EP_predict, ep_return_forecasted, OOS_DP_predict, dp_forecast_return, OOS_all_predict, multiple_forecast_return,  return_stats=True)\n",
    "display(pd.DataFrame(stats_plot))"
   ],
   "id": "9d15c96d383732cd",
   "outputs": [
    {
     "data": {
      "text/plain": [
       "<Figure size 1200x600 with 1 Axes>"
      ],
      "image/png": "[encoded data removed]"
     },
     "metadata": {},
     "output_type": "display_data"
    },
    {
     "data": {
      "text/plain": [
       "              DF1: EP_OOS_Returns  DF2: EP  DF3: DP_OOS_Returns  DF4: D/P  \\\n",
       "Mean                       0.0059   0.0068               0.0044    0.0081   \n",
       "Volatility                 0.0381   0.0356               0.0492    0.0478   \n",
       "Sharpe Ratio               0.1539   0.1914               0.0884    0.1704   \n",
       "Minimum                   -0.1554  -0.1747              -0.2585   -0.2986   \n",
       "Maximum                    0.1954   0.1368               0.2238    0.3000   \n",
       "VaR (5%)                  -0.0536  -0.0493              -0.0610   -0.0487   \n",
       "\n",
       "              DF5: All_OOS_Returns  DF6: M  \n",
       "Mean                        0.0019  0.0207  \n",
       "Volatility                  0.0592  0.1034  \n",
       "Sharpe Ratio                0.0321  0.1997  \n",
       "Minimum                    -0.5262 -0.4547  \n",
       "Maximum                     0.3682  0.4257  \n",
       "VaR (5%)                   -0.0630 -0.1516  "
      ],
      "text/html": [
       "<div>\n",
       "<style scoped>\n",
       "    .dataframe tbody tr th:only-of-type {\n",
       "        vertical-align: middle;\n",
       "    }\n",
       "\n",
       "    .dataframe tbody tr th {\n",
       "        vertical-align: top;\n",
       "    }\n",
       "\n",
       "    .dataframe thead th {\n",
       "        text-align: right;\n",
       "    }\n",
       "</style>\n",
       "<table border=\"1\" class=\"dataframe\">\n",
       "  <thead>\n",
       "    <tr style=\"text-align: right;\">\n",
       "      <th></th>\n",
       "      <th>DF1: EP_OOS_Returns</th>\n",
       "      <th>DF2: EP</th>\n",
       "      <th>DF3: DP_OOS_Returns</th>\n",
       "      <th>DF4: D/P</th>\n",
       "      <th>DF5: All_OOS_Returns</th>\n",
       "      <th>DF6: M</th>\n",
       "    </tr>\n",
       "  </thead>\n",
       "  <tbody>\n",
       "    <tr>\n",
       "      <th>Mean</th>\n",
       "      <td>0.0059</td>\n",
       "      <td>0.0068</td>\n",
       "      <td>0.0044</td>\n",
       "      <td>0.0081</td>\n",
       "      <td>0.0019</td>\n",
       "      <td>0.0207</td>\n",
       "    </tr>\n",
       "    <tr>\n",
       "      <th>Volatility</th>\n",
       "      <td>0.0381</td>\n",
       "      <td>0.0356</td>\n",
       "      <td>0.0492</td>\n",
       "      <td>0.0478</td>\n",
       "      <td>0.0592</td>\n",
       "      <td>0.1034</td>\n",
       "    </tr>\n",
       "    <tr>\n",
       "      <th>Sharpe Ratio</th>\n",
       "      <td>0.1539</td>\n",
       "      <td>0.1914</td>\n",
       "      <td>0.0884</td>\n",
       "      <td>0.1704</td>\n",
       "      <td>0.0321</td>\n",
       "      <td>0.1997</td>\n",
       "    </tr>\n",
       "    <tr>\n",
       "      <th>Minimum</th>\n",
       "      <td>-0.1554</td>\n",
       "      <td>-0.1747</td>\n",
       "      <td>-0.2585</td>\n",
       "      <td>-0.2986</td>\n",
       "      <td>-0.5262</td>\n",
       "      <td>-0.4547</td>\n",
       "    </tr>\n",
       "    <tr>\n",
       "      <th>Maximum</th>\n",
       "      <td>0.1954</td>\n",
       "      <td>0.1368</td>\n",
       "      <td>0.2238</td>\n",
       "      <td>0.3000</td>\n",
       "      <td>0.3682</td>\n",
       "      <td>0.4257</td>\n",
       "    </tr>\n",
       "    <tr>\n",
       "      <th>VaR (5%)</th>\n",
       "      <td>-0.0536</td>\n",
       "      <td>-0.0493</td>\n",
       "      <td>-0.0610</td>\n",
       "      <td>-0.0487</td>\n",
       "      <td>-0.0630</td>\n",
       "      <td>-0.1516</td>\n",
       "    </tr>\n",
       "  </tbody>\n",
       "</table>\n",
       "</div>"
      ]
     },
     "metadata": {},
     "output_type": "display_data"
    }
   ],
   "execution_count": 116
  },
  {
   "metadata": {
    "ExecuteTime": {
     "end_time": "2024-11-16T06:39:52.918253Z",
     "start_time": "2024-11-16T06:39:52.913834Z"
    }
   },
   "cell_type": "code",
   "source": "#4.3",
   "id": "d45e971cf4863731",
   "outputs": [],
   "execution_count": 106
  },
  {
   "metadata": {
    "ExecuteTime": {
     "end_time": "2024-11-16T06:48:50.441016Z",
     "start_time": "2024-11-16T06:48:50.407951Z"
    }
   },
   "cell_type": "code",
   "source": [
    "oos_prediction_sum = pd.concat([OOS_DP_predict.T,OOS_EP_predict.T,OOS_all_predict.T])\n",
    "oos_prediction_sum = oos_prediction_sum.T\n",
    "\n",
    "strategy = {'DP': OOS_DP_predict.dropna(),\n",
    "          'EP': OOS_EP_predict.dropna(),\n",
    "            'DP-EP' : OOS_EPDP_predict,\n",
    "          'All': OOS_all_predict.dropna()\n",
    "         }\n",
    "factor = excess_returns.loc[:,['SPY']]\n",
    "total_strategy_summary = []\n",
    "\n",
    "for key,value in strategy.items():\n",
    "    strat = strategy[key]\n",
    "    strat_summary = performance_summary(strat)\n",
    "    strat_summary.index = [key]\n",
    "    strat_summary['Negative Risk Premium Months'] = len(strat[strat[key + '_OOS_Returns'] - risk_free['TBill 3M'] <0])\n",
    "    strat_summary['Total Months'] = len(strat)\n",
    "    ts = time_series_regression(strat, factor[strat.index[0]:].squeeze(), False)\n",
    "    strat_summary['Market Beta'] = ts['SPY beta'].values\n",
    "    strat_summary['Market Alpha'] = ts['alpha_hat'].values\n",
    "    strat_summary['Market Information Ratio'] = ts['info_ratio'].values\n",
    "    \n",
    "    total_strategy_summary.append(strat_summary)\n",
    "    \n",
    "total_strategy_df = pd.concat(total_strategy_summary)\n",
    "  \n",
    "total_strategy_df.loc[:,['Mean','Volatility','Sharpe Ratio','Max Drawdown','Market Beta','Market Alpha','Market Information Ratio']]"
   ],
   "id": "c66f648312b1723",
   "outputs": [
    {
     "data": {
      "text/plain": [
       "        Mean  Volatility  Sharpe Ratio  Max Drawdown  Market Beta  \\\n",
       "DP    0.0522      0.1705        0.3062       -0.6560       0.7375   \n",
       "EP    0.0703      0.1319        0.5333       -0.4763       0.7032   \n",
       "DP-EP 0.0467      0.2147        0.2175       -0.7163       0.5372   \n",
       "All   0.0228      0.2051        0.1113       -0.6906       0.4389   \n",
       "\n",
       "       Market Alpha  Market Information Ratio  \n",
       "DP          -0.0103                   -0.0791  \n",
       "EP           0.0107                    0.1346  \n",
       "DP-EP        0.0012                    0.0058  \n",
       "All         -0.0144                   -0.0740  "
      ],
      "text/html": [
       "<div>\n",
       "<style scoped>\n",
       "    .dataframe tbody tr th:only-of-type {\n",
       "        vertical-align: middle;\n",
       "    }\n",
       "\n",
       "    .dataframe tbody tr th {\n",
       "        vertical-align: top;\n",
       "    }\n",
       "\n",
       "    .dataframe thead th {\n",
       "        text-align: right;\n",
       "    }\n",
       "</style>\n",
       "<table border=\"1\" class=\"dataframe\">\n",
       "  <thead>\n",
       "    <tr style=\"text-align: right;\">\n",
       "      <th></th>\n",
       "      <th>Mean</th>\n",
       "      <th>Volatility</th>\n",
       "      <th>Sharpe Ratio</th>\n",
       "      <th>Max Drawdown</th>\n",
       "      <th>Market Beta</th>\n",
       "      <th>Market Alpha</th>\n",
       "      <th>Market Information Ratio</th>\n",
       "    </tr>\n",
       "  </thead>\n",
       "  <tbody>\n",
       "    <tr>\n",
       "      <th>DP</th>\n",
       "      <td>0.0522</td>\n",
       "      <td>0.1705</td>\n",
       "      <td>0.3062</td>\n",
       "      <td>-0.6560</td>\n",
       "      <td>0.7375</td>\n",
       "      <td>-0.0103</td>\n",
       "      <td>-0.0791</td>\n",
       "    </tr>\n",
       "    <tr>\n",
       "      <th>EP</th>\n",
       "      <td>0.0703</td>\n",
       "      <td>0.1319</td>\n",
       "      <td>0.5333</td>\n",
       "      <td>-0.4763</td>\n",
       "      <td>0.7032</td>\n",
       "      <td>0.0107</td>\n",
       "      <td>0.1346</td>\n",
       "    </tr>\n",
       "    <tr>\n",
       "      <th>DP-EP</th>\n",
       "      <td>0.0467</td>\n",
       "      <td>0.2147</td>\n",
       "      <td>0.2175</td>\n",
       "      <td>-0.7163</td>\n",
       "      <td>0.5372</td>\n",
       "      <td>0.0012</td>\n",
       "      <td>0.0058</td>\n",
       "    </tr>\n",
       "    <tr>\n",
       "      <th>All</th>\n",
       "      <td>0.0228</td>\n",
       "      <td>0.2051</td>\n",
       "      <td>0.1113</td>\n",
       "      <td>-0.6906</td>\n",
       "      <td>0.4389</td>\n",
       "      <td>-0.0144</td>\n",
       "      <td>-0.0740</td>\n",
       "    </tr>\n",
       "  </tbody>\n",
       "</table>\n",
       "</div>"
      ]
     },
     "execution_count": 117,
     "metadata": {},
     "output_type": "execute_result"
    }
   ],
   "execution_count": 117
  },
  {
   "metadata": {
    "ExecuteTime": {
     "end_time": "2024-11-16T06:49:00.666222Z",
     "start_time": "2024-11-16T06:49:00.661103Z"
    }
   },
   "cell_type": "code",
   "source": [
    "neg_risk_premium = total_strategy_df.loc[:,['Negative Risk Premium Months','Total Months']]\n",
    "neg_risk_premium['Negative Risk Premium Months (%)'] = neg_risk_premium['Negative Risk Premium Months'] *100/ neg_risk_premium['Total Months']\n",
    "neg_risk_premium"
   ],
   "id": "345e3779060041d1",
   "outputs": [
    {
     "data": {
      "text/plain": [
       "       Negative Risk Premium Months  Total Months  \\\n",
       "DP                              110           275   \n",
       "EP                              115           275   \n",
       "DP-EP                           111           275   \n",
       "All                             112           275   \n",
       "\n",
       "       Negative Risk Premium Months (%)  \n",
       "DP                              40.0000  \n",
       "EP                              41.8182  \n",
       "DP-EP                           40.3636  \n",
       "All                             40.7273  "
      ],
      "text/html": [
       "<div>\n",
       "<style scoped>\n",
       "    .dataframe tbody tr th:only-of-type {\n",
       "        vertical-align: middle;\n",
       "    }\n",
       "\n",
       "    .dataframe tbody tr th {\n",
       "        vertical-align: top;\n",
       "    }\n",
       "\n",
       "    .dataframe thead th {\n",
       "        text-align: right;\n",
       "    }\n",
       "</style>\n",
       "<table border=\"1\" class=\"dataframe\">\n",
       "  <thead>\n",
       "    <tr style=\"text-align: right;\">\n",
       "      <th></th>\n",
       "      <th>Negative Risk Premium Months</th>\n",
       "      <th>Total Months</th>\n",
       "      <th>Negative Risk Premium Months (%)</th>\n",
       "    </tr>\n",
       "  </thead>\n",
       "  <tbody>\n",
       "    <tr>\n",
       "      <th>DP</th>\n",
       "      <td>110</td>\n",
       "      <td>275</td>\n",
       "      <td>40.0000</td>\n",
       "    </tr>\n",
       "    <tr>\n",
       "      <th>EP</th>\n",
       "      <td>115</td>\n",
       "      <td>275</td>\n",
       "      <td>41.8182</td>\n",
       "    </tr>\n",
       "    <tr>\n",
       "      <th>DP-EP</th>\n",
       "      <td>111</td>\n",
       "      <td>275</td>\n",
       "      <td>40.3636</td>\n",
       "    </tr>\n",
       "    <tr>\n",
       "      <th>All</th>\n",
       "      <td>112</td>\n",
       "      <td>275</td>\n",
       "      <td>40.7273</td>\n",
       "    </tr>\n",
       "  </tbody>\n",
       "</table>\n",
       "</div>"
      ]
     },
     "execution_count": 118,
     "metadata": {},
     "output_type": "execute_result"
    }
   ],
   "execution_count": 118
  },
  {
   "metadata": {},
   "cell_type": "code",
   "outputs": [],
   "execution_count": null,
   "source": [
    "echo \"# pmt\" >> README.md\n",
    "git init\n",
    "git add README.md\n",
    "git commit -m \"first commit\"\n",
    "git branch -M main\n",
    "git remote add origin https://github.com/Kunj121/pmt.git\n",
    "git push -u origin main"
   ],
   "id": "bbc235f238ff71f0"
  }
 ],
 "metadata": {
  "kernelspec": {
   "display_name": "Python 3",
   "language": "python",
   "name": "python3"
  },
  "language_info": {
   "codemirror_mode": {
    "name": "ipython",
    "version": 2
   },
   "file_extension": ".py",
   "mimetype": "text/x-python",
   "name": "python",
   "nbconvert_exporter": "python",
   "pygments_lexer": "ipython2",
   "version": "2.7.6"
  }
 },
 "nbformat": 4,
 "nbformat_minor": 5
}
